{
 "cells": [
  {
   "cell_type": "code",
   "execution_count": 80,
   "metadata": {},
   "outputs": [],
   "source": [
    "import os\n",
    "\n",
    "os.environ['TF_CPP_MIN_LOG_LEVEL'] = '3'\n",
    "from warnings import simplefilter # disable tensorflow warnings\n",
    "simplefilter(action='ignore', category=FutureWarning)\n",
    "\n",
    "import h5py\n",
    "import imageio\n",
    "import ipdb\n",
    "import numpy as np\n",
    "import pandas as pd\n",
    "import tensorflow as tf\n",
    "from scipy.spatial.transform import Rotation as R\n",
    "import matplotlib\n",
    "import matplotlib.pyplot as plt\n",
    "%matplotlib inline  \n",
    "\n",
    "import sys\n",
    "module_path = os.path.abspath(os.path.join('../..'))\n",
    "if module_path not in sys.path:\n",
    "    sys.path.append(module_path)\n",
    "\n",
    "\n",
    "from robonet.robonet.datasets.util.hdf5_loader import (default_loader_hparams,\n",
    "                                                       load_actions,\n",
    "                                                       load_camera_imgs,\n",
    "                                                       load_qpos, load_states)\n",
    "from robonet.robonet.datasets.util.metadata_helper import load_metadata\n",
    "from src.env.robotics.masks.baxter_mask_env import BaxterMaskEnv\n",
    "from src.env.robotics.masks.sawyer_mask_env import SawyerMaskEnv\n",
    "from src.env.robotics.masks.widowx_mask_env import WidowXMaskEnv\n",
    "from tqdm.notebook import tqdm\n",
    "\n",
    "robonet_root = \"/media/ed/hdd/Datasets/Robonet/hdf5/\"\n",
    "metadata_path = \"/media/ed/hdd/Datasets/Robonet/hdf5/meta_data.pkl\""
   ]
  },
  {
   "cell_type": "code",
   "execution_count": 3,
   "metadata": {},
   "outputs": [],
   "source": [
    "def load_all_states(hdf5_list):\n",
    "    all_states = []\n",
    "    prev_ws_min = prev_ws_max = None\n",
    "    \n",
    "    for traj_name in tqdm(hdf5_list, f\"Collecting states\"):\n",
    "        file_metadata = df.loc[traj_name]\n",
    "        ws_min = file_metadata[\"low_bound\"]\n",
    "        ws_max = file_metadata[\"high_bound\"]\n",
    "        if prev_ws_min is None:\n",
    "            prev_ws_min = ws_min\n",
    "            prev_ws_max = ws_max\n",
    "        ws_min_close = np.allclose(prev_ws_min, ws_min)\n",
    "        ws_max_close = np.allclose(prev_ws_max, ws_max)\n",
    "        if not (ws_min_close and ws_max_close):\n",
    "            print(traj_name, \"ws not same\")\n",
    "            print(ws_min, prev_ws_min)\n",
    "            print(ws_max, prev_ws_max)\n",
    "        prev_ws_min = ws_min\n",
    "        prev_ws_max = ws_max\n",
    "        \n",
    "        \n",
    "        f_name = os.path.join(robonet_root, traj_name)\n",
    "\n",
    "        with h5py.File(f_name, \"r\") as hf:\n",
    "            start_time, n_states = 0, min([file_metadata['state_T'], file_metadata['img_T'], file_metadata['action_T'] + 1])\n",
    "            states = load_states(hf, file_metadata, hparams)\n",
    "            assert states.shape[-1] == 5\n",
    "            all_states.append(states)\n",
    "    return np.asarray(all_states), ws_min, ws_max"
   ]
  },
  {
   "cell_type": "code",
   "execution_count": 11,
   "metadata": {},
   "outputs": [
    {
     "data": {
      "application/vnd.jupyter.widget-view+json": {
       "model_id": "68931e98a2de4bbaa996ee802680492f",
       "version_major": 2,
       "version_minor": 0
      },
      "text/plain": [
       "Collecting states:   0%|          | 0/100 [00:00<?, ?it/s]"
      ]
     },
     "metadata": {},
     "output_type": "display_data"
    },
    {
     "data": {
      "application/vnd.jupyter.widget-view+json": {
       "model_id": "8962b10669904a9dae007077faa6e691",
       "version_major": 2,
       "version_minor": 0
      },
      "text/plain": [
       "Collecting states:   0%|          | 0/100 [00:00<?, ?it/s]"
      ]
     },
     "metadata": {},
     "output_type": "display_data"
    },
    {
     "data": {
      "application/vnd.jupyter.widget-view+json": {
       "model_id": "de0369afc375406392d7a85f00557f17",
       "version_major": 2,
       "version_minor": 0
      },
      "text/plain": [
       "Collecting states:   0%|          | 0/100 [00:00<?, ?it/s]"
      ]
     },
     "metadata": {},
     "output_type": "display_data"
    },
    {
     "data": {
      "application/vnd.jupyter.widget-view+json": {
       "model_id": "59a49a65f5404e69bf94148191bc1268",
       "version_major": 2,
       "version_minor": 0
      },
      "text/plain": [
       "Collecting states:   0%|          | 0/100 [00:00<?, ?it/s]"
      ]
     },
     "metadata": {},
     "output_type": "display_data"
    }
   ],
   "source": [
    "# first load widowx states\n",
    "hparams = tf.contrib.training.HParams(**default_loader_hparams())\n",
    "hparams.img_size = [120, 160]\n",
    "hparams.cams_to_load = [0]\n",
    "\n",
    "df = pd.read_pickle(metadata_path, compression=\"gzip\")\n",
    "widowx_df = df.loc[\"widowx\" == df[\"robot\"]]\n",
    "widowx_subset = widowx_df[widowx_df[\"camera_configuration\"] == \"widowx1\"].sample(100)\n",
    "widowx_states, widowx_min, widowx_max = load_all_states(widowx_subset.index)\n",
    "\n",
    "sawyer_df = df.loc[\"sawyer\" == df[\"robot\"]]\n",
    "sawyer_subset = sawyer_df[\"sudri0\" == sawyer_df[\"camera_configuration\"]].sample(100)\n",
    "sawyer_states, sawyer_min, sawyer_max = load_all_states(sawyer_subset.index)\n",
    "\n",
    "baxter_df = df.loc[\"baxter\" == df[\"robot\"]]\n",
    "left = [\"left\" in x for x in baxter_df.index]\n",
    "right = [not x for x in left]\n",
    "baxter_left_subset = baxter_df[left].sample(100)\n",
    "baxter_right_subset = baxter_df[right].sample(100)\n",
    "baxter_left_states, baxter_left_min, baxter_left_max = load_all_states(baxter_left_subset.index)\n",
    "baxter_right_states, baxter_right_min, baxter_right_max = load_all_states(baxter_right_subset.index)"
   ]
  },
  {
   "cell_type": "code",
   "execution_count": 9,
   "metadata": {},
   "outputs": [],
   "source": [
    "robot_data = {\"baxter_left\": baxter_left_states, \"baxter_right\": baxter_right_states, \"sawyer\": sawyer_states, \"widowx\": widowx_states}\n",
    "robot_min = {\"baxter_left\": baxter_left_min, \"baxter_right\": baxter_right_min, \"sawyer\": sawyer_min, \"widowx\": widowx_min}\n",
    "robot_max = {\"baxter_left\": baxter_left_max, \"baxter_right\": baxter_right_max, \"sawyer\": sawyer_max, \"widowx\": widowx_max}\n"
   ]
  },
  {
   "cell_type": "markdown",
   "metadata": {},
   "source": [
    "# Rotation bounds\n",
    "They are stored in raw radians. I don't think I need to normalize the gripper rotations since they are all in radians already.\n",
    "\n",
    "Seems like gripper rotations need to be normalized with radians. Baxter's gripper rotation bounds are in degree\n",
    " "
   ]
  },
  {
   "cell_type": "code",
   "execution_count": 76,
   "metadata": {},
   "outputs": [
    {
     "name": "stdout",
     "output_type": "stream",
     "text": [
      "Examining rotation\n",
      "baxter_left Raw Data stats\n"
     ]
    },
    {
     "data": {
      "image/png": "[encoded data removed]",
      "text/plain": [
       "<Figure size 432x288 with 1 Axes>"
      ]
     },
     "metadata": {
      "needs_background": "light"
     },
     "output_type": "display_data"
    },
    {
     "name": "stdout",
     "output_type": "stream",
     "text": [
      "min 0.00 max 6.28 mean 3.06\n",
      "baxter_right Raw Data stats\n"
     ]
    },
    {
     "data": {
      "image/png": "[encoded data removed]",
      "text/plain": [
       "<Figure size 432x288 with 1 Axes>"
      ]
     },
     "metadata": {
      "needs_background": "light"
     },
     "output_type": "display_data"
    },
    {
     "name": "stdout",
     "output_type": "stream",
     "text": [
      "min 0.00 max 6.28 mean 3.02\n",
      "sawyer Raw Data stats\n"
     ]
    },
    {
     "data": {
      "image/png": "[encoded data removed]",
      "text/plain": [
       "<Figure size 432x288 with 1 Axes>"
      ]
     },
     "metadata": {
      "needs_background": "light"
     },
     "output_type": "display_data"
    },
    {
     "name": "stdout",
     "output_type": "stream",
     "text": [
      "min 1.50 max 4.68 mean 3.10\n",
      "widowx Raw Data stats\n"
     ]
    },
    {
     "data": {
      "image/png": "[encoded data removed]",
      "text/plain": [
       "<Figure size 432x288 with 1 Axes>"
      ]
     },
     "metadata": {
      "needs_background": "light"
     },
     "output_type": "display_data"
    },
    {
     "name": "stdout",
     "output_type": "stream",
     "text": [
      "min 0.42 max 5.23 mean 3.14\n"
     ]
    }
   ],
   "source": [
    "# examine gripper rotation for each robot\n",
    "print(\"Examining rotation\")\n",
    "# fig, axes = plt.subplots(1, len(robot_data.keys()))\n",
    "for robot, states in robot_data.items(): \n",
    "    gripper_rotation = states[:,:, 3]\n",
    "    print(f\"{robot} Raw Data stats\")\n",
    "    plt.hist(gripper_rotation, bins=[0,1,2,3,4,5,6,7])\n",
    "    plt.show()\n",
    "    print(f\"min {gripper_rotation.min():.2f}\", f\"max {gripper_rotation.max():.2f}\", f\"mean {gripper_rotation.mean():.2f}\")\n",
    "#     rmin = robot_min[robot][3]\n",
    "#     rmax = robot_max[robot][3]\n",
    "#     if \"baxter\" in robot:\n",
    "#         # convert to radians\n",
    "#         rmin *= np.pi/180\n",
    "#         rmax *= np.pi/180\n",
    "#     print(\"rotation min, rotation max\", rmin, rmax)\n",
    "#     print(f\"After Normalization stats\")\n",
    "#     gripper_rotation_norm = (states[:,:, 3] -  rmin) / (rmax - rmin)\n",
    "#     print(f\"min {gripper_rotation_norm.min():.2f}\", f\"max {gripper_rotation_norm.max():.2f}\", f\"mean {gripper_rotation_norm.mean():.2f}\")\n",
    "# #     print(f\"After Denormalization stats\")\n",
    "# #     gripper_rotation_norm = (states[:,:, 3] * (rmax - rmin)) + rmin\n",
    "# #     print(f\"min {gripper_rotation_norm.min():.2f}\", f\"max {gripper_rotation_norm.max():.2f}\", f\"mean {gripper_rotation_norm.mean():.2f}\")\n",
    "#     print()\n",
    "\n"
   ]
  },
  {
   "cell_type": "markdown",
   "metadata": {},
   "source": [
    "# Force Bounds\n",
    "Stored in raw gripper qpos, needs to be normalized to[0,1)"
   ]
  },
  {
   "cell_type": "code",
   "execution_count": 78,
   "metadata": {},
   "outputs": [
    {
     "name": "stdout",
     "output_type": "stream",
     "text": [
      "Examining force\n",
      "baxter_left Raw Data stats\n",
      "min 1.77 max 100.00 mean 48.67\n",
      "rotation min, rotation max 0.0 100.0\n",
      "After Normalization stats\n",
      "min 0.02 max 1.00 mean 0.49\n",
      "\n"
     ]
    },
    {
     "data": {
      "image/png": "[encoded data removed]",
      "text/plain": [
       "<Figure size 432x288 with 1 Axes>"
      ]
     },
     "metadata": {
      "needs_background": "light"
     },
     "output_type": "display_data"
    },
    {
     "name": "stdout",
     "output_type": "stream",
     "text": [
      "baxter_right Raw Data stats\n",
      "min 2.92 max 100.00 mean 50.28\n",
      "rotation min, rotation max 0.0 100.0\n",
      "After Normalization stats\n",
      "min 0.03 max 1.00 mean 0.50\n",
      "\n"
     ]
    },
    {
     "data": {
      "image/png": "[encoded data removed]",
      "text/plain": [
       "<Figure size 432x288 with 1 Axes>"
      ]
     },
     "metadata": {
      "needs_background": "light"
     },
     "output_type": "display_data"
    },
    {
     "name": "stdout",
     "output_type": "stream",
     "text": [
      "sawyer Raw Data stats\n",
      "min -1.01 max 1.02 mean -0.01\n",
      "rotation min, rotation max -1.0 1.0\n",
      "After Normalization stats\n",
      "min -0.00 max 1.01 mean 0.49\n",
      "\n"
     ]
    },
    {
     "data": {
      "image/png": "[encoded data removed]",
      "text/plain": [
       "<Figure size 432x288 with 1 Axes>"
      ]
     },
     "metadata": {
      "needs_background": "light"
     },
     "output_type": "display_data"
    },
    {
     "name": "stdout",
     "output_type": "stream",
     "text": [
      "widowx Raw Data stats\n",
      "min -1.01 max 1.01 mean 0.29\n",
      "rotation min, rotation max -1.0 1.0\n",
      "After Normalization stats\n",
      "min -0.01 max 1.00 mean 0.65\n",
      "\n"
     ]
    },
    {
     "data": {
      "image/png": "[encoded data removed]",
      "text/plain": [
       "<Figure size 432x288 with 1 Axes>"
      ]
     },
     "metadata": {
      "needs_background": "light"
     },
     "output_type": "display_data"
    }
   ],
   "source": [
    "# examine gripper force for each robot\n",
    "print(\"Examining force\")\n",
    "for robot, states in robot_data.items(): \n",
    "    gripper_rotation = states[:,:, 4]\n",
    "    print(f\"{robot} Raw Data stats\")\n",
    "    print(f\"min {gripper_rotation.min():.2f}\", f\"max {gripper_rotation.max():.2f}\", f\"mean {gripper_rotation.mean():.2f}\")\n",
    "    rmin = robot_min[robot][4]\n",
    "    rmax = robot_max[robot][4]\n",
    "#     if \"baxter\" in robot:\n",
    "#         # convert to radians\n",
    "#         rmin *= np.pi/180\n",
    "#         rmax *= np.pi/180\n",
    "    print(\"rotation min, rotation max\", rmin, rmax)\n",
    "    print(f\"After Normalization stats\")\n",
    "    gripper_rotation_norm = (states[:,:, 4] -  rmin) / (rmax - rmin)\n",
    "    print(f\"min {gripper_rotation_norm.min():.2f}\", f\"max {gripper_rotation_norm.max():.2f}\", f\"mean {gripper_rotation_norm.mean():.2f}\")\n",
    "#     print(f\"After Denormalization stats\")\n",
    "#     gripper_rotation_norm = (states[:,:, 3] * (rmax - rmin)) + rmin\n",
    "#     print(f\"min {gripper_rotation_norm.min():.2f}\", f\"max {gripper_rotation_norm.max():.2f}\", f\"mean {gripper_rotation_norm.mean():.2f}\")\n",
    "    print()\n",
    "    plt.hist(gripper_rotation_norm, bins=[0.1 * x for x in range(0, 11)])\n",
    "    plt.show()"
   ]
  },
  {
   "cell_type": "markdown",
   "metadata": {},
   "source": [
    "# XYZ Bounds\n",
    "Let's double check that the XYZ positions are normalized per robot already."
   ]
  },
  {
   "cell_type": "code",
   "execution_count": 95,
   "metadata": {},
   "outputs": [
    {
     "name": "stdout",
     "output_type": "stream",
     "text": [
      "Examining X\n",
      "baxter_left Raw Data stats\n"
     ]
    },
    {
     "data": {
      "image/png": "[encoded data removed]",
      "text/plain": [
       "<Figure size 432x288 with 1 Axes>"
      ]
     },
     "metadata": {
      "needs_background": "light"
     },
     "output_type": "display_data"
    },
    {
     "name": "stdout",
     "output_type": "stream",
     "text": [
      "min -0.20 max 1.16 mean 0.50\n",
      "rotation min, rotation max 0.15 0.59\n",
      "\n",
      "baxter_right Raw Data stats\n"
     ]
    },
    {
     "data": {
      "image/png": "[encoded data removed]",
      "text/plain": [
       "<Figure size 432x288 with 1 Axes>"
      ]
     },
     "metadata": {
      "needs_background": "light"
     },
     "output_type": "display_data"
    },
    {
     "name": "stdout",
     "output_type": "stream",
     "text": [
      "min -0.19 max 1.20 mean 0.51\n",
      "rotation min, rotation max -0.63 -0.2\n",
      "\n",
      "sawyer Raw Data stats\n"
     ]
    },
    {
     "data": {
      "image/png": "[encoded data removed]",
      "text/plain": [
       "<Figure size 432x288 with 1 Axes>"
      ]
     },
     "metadata": {
      "needs_background": "light"
     },
     "output_type": "display_data"
    },
    {
     "name": "stdout",
     "output_type": "stream",
     "text": [
      "min -0.03 max 1.02 mean 0.50\n",
      "rotation min, rotation max -0.18 0.22\n",
      "\n",
      "widowx Raw Data stats\n"
     ]
    },
    {
     "data": {
      "image/png": "[encoded data removed]",
      "text/plain": [
       "<Figure size 432x288 with 1 Axes>"
      ]
     },
     "metadata": {
      "needs_background": "light"
     },
     "output_type": "display_data"
    },
    {
     "name": "stdout",
     "output_type": "stream",
     "text": [
      "min -0.12 max 1.07 mean 0.50\n",
      "rotation min, rotation max -0.13 0.13\n",
      "\n"
     ]
    }
   ],
   "source": [
    "# examine X  for each robot\n",
    "print(\"Examining X\")\n",
    "# fig, axes = plt.subplots(1, len(robot_data.keys()))\n",
    "for robot, states in robot_data.items(): \n",
    "    axis = 1\n",
    "    gripper_rotation = states[:,:, axis]\n",
    "    print(f\"{robot} Raw Data stats\")\n",
    "    plt.hist(gripper_rotation, bins=[0.1 * x for x in range(-10, 20)])\n",
    "    plt.show()\n",
    "    print(f\"min {gripper_rotation.min():.2f}\", f\"max {gripper_rotation.max():.2f}\", f\"mean {gripper_rotation.mean():.2f}\")\n",
    "    rmin = robot_min[robot][axis]\n",
    "    rmax = robot_max[robot][axis]\n",
    "#     if \"baxter\" in robot:\n",
    "        # convert to radians\n",
    "#         rmin *= np.pi/180\n",
    "#         rmax *= np.pi/180\n",
    "    print(\"rotation min, rotation max\", rmin, rmax)\n",
    "#     print(f\"After Normalization stats\")\n",
    "#     gripper_rotation_norm = (states[:,:, 3] -  rmin) / (rmax - rmin)\n",
    "#     print(f\"min {gripper_rotation_norm.min():.2f}\", f\"max {gripper_rotation_norm.max():.2f}\", f\"mean {gripper_rotation_norm.mean():.2f}\")\n",
    "# #     print(f\"After Denormalization stats\")\n",
    "# #     gripper_rotation_norm = (states[:,:, 3] * (rmax - rmin)) + rmin\n",
    "# #     print(f\"min {gripper_rotation_norm.min():.2f}\", f\"max {gripper_rotation_norm.max():.2f}\", f\"mean {gripper_rotation_norm.mean():.2f}\")\n",
    "    print()\n",
    "\n"
   ]
  },
  {
   "cell_type": "markdown",
   "metadata": {},
   "source": [
    "# Action Bounds"
   ]
  },
  {
   "cell_type": "code",
   "execution_count": 33,
   "metadata": {},
   "outputs": [],
   "source": [
    "def load_all_actions(hdf5_list):\n",
    "    all_actions = []\n",
    "    \n",
    "    for traj_name in tqdm(hdf5_list, f\"Collecting actions\"):\n",
    "        file_metadata = df.loc[traj_name]\n",
    "        f_name = os.path.join(robonet_root, traj_name)\n",
    "\n",
    "        with h5py.File(f_name, \"r\") as hf:\n",
    "            actions = load_actions(hf, file_metadata, hparams)\n",
    "            assert actions.shape[-1] == 4, actions.shape\n",
    "            all_actions.append(actions)\n",
    "    return np.asarray(all_actions)"
   ]
  },
  {
   "cell_type": "code",
   "execution_count": 35,
   "metadata": {},
   "outputs": [
    {
     "data": {
      "application/vnd.jupyter.widget-view+json": {
       "model_id": "a34a1c3802a441dfaa21dba910161f35",
       "version_major": 2,
       "version_minor": 0
      },
      "text/plain": [
       "Collecting actions:   0%|          | 0/100 [00:00<?, ?it/s]"
      ]
     },
     "metadata": {},
     "output_type": "display_data"
    },
    {
     "data": {
      "application/vnd.jupyter.widget-view+json": {
       "model_id": "f7f0fe0298cc46d396e56b97ffc522ae",
       "version_major": 2,
       "version_minor": 0
      },
      "text/plain": [
       "Collecting actions:   0%|          | 0/100 [00:00<?, ?it/s]"
      ]
     },
     "metadata": {},
     "output_type": "display_data"
    },
    {
     "data": {
      "application/vnd.jupyter.widget-view+json": {
       "model_id": "398f4f3b6a07422eb1261b62ac090a58",
       "version_major": 2,
       "version_minor": 0
      },
      "text/plain": [
       "Collecting actions:   0%|          | 0/100 [00:00<?, ?it/s]"
      ]
     },
     "metadata": {},
     "output_type": "display_data"
    },
    {
     "data": {
      "application/vnd.jupyter.widget-view+json": {
       "model_id": "29e61f07ebf647349ad6f4a44c8ddce8",
       "version_major": 2,
       "version_minor": 0
      },
      "text/plain": [
       "Collecting actions:   0%|          | 0/100 [00:00<?, ?it/s]"
      ]
     },
     "metadata": {},
     "output_type": "display_data"
    }
   ],
   "source": [
    "widowx_actions = load_all_actions(widowx_subset.index)\n",
    "baxter_left_actions = load_all_actions(baxter_left_subset.index)\n",
    "baxter_right_actions = load_all_actions(baxter_right_subset.index)\n",
    "sawyer_actions = load_all_actions(sawyer_subset.index)"
   ]
  },
  {
   "cell_type": "code",
   "execution_count": 36,
   "metadata": {},
   "outputs": [],
   "source": [
    "action_data = {\"baxter_left\": baxter_left_actions, \"baxter_right\": baxter_right_actions, \"sawyer\": sawyer_actions, \"widowx\": widowx_actions}\n"
   ]
  },
  {
   "cell_type": "code",
   "execution_count": 91,
   "metadata": {},
   "outputs": [],
   "source": [
    "np.set_printoptions(8, suppress=True)\n",
    "for robot in [\"sawyer\"]:\n",
    "    all_actions = action_data[robot]\n",
    "    all_states = robot_data[robot]\n",
    "    low = robot_min[robot][:4]\n",
    "    high = robot_max[robot][:4]\n",
    "    diffs = []\n",
    "    for state_trajectory, action_trajectory in zip(all_states, all_actions):\n",
    "        # first denormalize the state trajectory\n",
    "        state_trajectory = state_trajectory[:, :4]\n",
    "        state_trajectory = state_trajectory * (high - low)\n",
    "        state_trajectory = state_trajectory + low\n",
    "        \n",
    "        # denormalize the action trajectory\n",
    "        action_trajectory = action_trajectory[:, :4]\n",
    "#         action_trajectory = action_trajectory * (high - low)\n",
    "#         action_trajectory = action_trajectory + low\n",
    "        \n",
    "        \n",
    "#         for i, action in enumerate(action_trajectory):\n",
    "#             curr_state = state_trajectory[i]\n",
    "#             next_state = state_trajectory[i+1]\n",
    "#             pred_state = curr_state + action\n",
    "#             print(curr_state)\n",
    "#             print(action)\n",
    "#             print(pred_state)\n",
    "#             print(next_state)\n",
    "            \n",
    "#             print(\"calculating percent error\")\n",
    "#             true_displacement = next_state - curr_state\n",
    "#             diff = np.abs(true_displacement - action)\n",
    "#             print(diff)\n",
    "#             print(true_displacement)\n",
    "#             percent_off = 100 * diff / true_displacement\n",
    "#             print(percent_off)\n",
    "#             print()\n",
    "#             break\n",
    "                  \n",
    "#         break\n",
    "#         true_actions = state_trajectory[1:] - state_trajectory[:-1]\n",
    "#         diff = np.abs(action_trajectory - true_actions)\n",
    "#         percent_off = np.abs((diff / true_actions) * 100)\n",
    "#         percent_off = np.mean(percent_off, axis=0)\n",
    "#         diffs.append(percent_off)\n",
    "\n",
    "            \n",
    "        shifted_states = state_trajectory[:-1] + action_trajectory\n",
    "        next_states = state_trajectory[1:]\n",
    "        diff = np.abs(shifted_states - next_states)\n",
    "        diff = np.mean(diff, axis=0)\n",
    "        diffs.append(diff)\n",
    "#         assert np.allclose(shifted_states, next_states)"
   ]
  },
  {
   "cell_type": "code",
   "execution_count": 92,
   "metadata": {},
   "outputs": [
    {
     "data": {
      "text/plain": [
       "array([0.03660304, 0.03749607, 0.07251998, 0.41875075])"
      ]
     },
     "execution_count": 92,
     "metadata": {},
     "output_type": "execute_result"
    }
   ],
   "source": [
    "diffs = np.asarray(diffs)\n",
    "diffs.mean(axis=0)"
   ]
  },
  {
   "cell_type": "markdown",
   "metadata": {},
   "source": [
    "# Convert Action to Camera Space"
   ]
  },
  {
   "cell_type": "code",
   "execution_count": 108,
   "metadata": {},
   "outputs": [
    {
     "name": "stdout",
     "output_type": "stream",
     "text": [
      "[-0.00910713  0.02791954  0.01630876]\n"
     ]
    }
   ],
   "source": [
    "actions = action_data[\"sawyer\"]\n",
    "states = robot_data[\"sawyer\"]\n",
    "w_to_c = np.array(\n",
    "        [\n",
    "            [-0.01290487, 0.62117762, -0.78356355, 1.21061856],\n",
    "            [1, 0.00660994, -0.01122798, 0.01680913],\n",
    "            [-0.00179526, -0.78364193, -0.62121019, 0.47401633],\n",
    "            [0.0, 0.0, 0.0, 1.0],\n",
    "        ]\n",
    "    )\n",
    "\n",
    "def convert_to_camera_space(state, w_to_c):\n",
    "    e_to_w = np.eye(4)\n",
    "    # compute rotation matrix of end effector\n",
    "    # http://planning.cs.uiuc.edu/node102.html\n",
    "    a = state[3]\n",
    "    b = 0\n",
    "    g = 0\n",
    "    yaw = np.array([ [np.cos(a), -np.sin(a), 0], [np.sin(a), np.cos(a), 0], [0, 0, 1]])\n",
    "    rot = yaw\n",
    "    e_to_w[:3, :3] = rot\n",
    "    e_to_w[:3, 3] = state[:3]\n",
    "    e_to_c = w_to_c @ e_to_w\n",
    "\n",
    "    pos_c = e_to_c[:3, 3]    \n",
    "    return pos_c\n",
    "    \n",
    "for state_traj, action_traj in zip(actions, states):\n",
    "    for t, ac in enumerate(action_traj):\n",
    "        state = state_traj[t]\n",
    "        pos_c = convert_to_camera_space(state, w_to_c)\n",
    "        \n",
    "        next_state = state_traj[t+1]\n",
    "        next_pos_c = convert_to_camera_space(next_state, w_to_c)\n",
    "        true_offset_c = next_pos_c - pos_c\n",
    "        print(true_offset_c)\n",
    "        break\n",
    "    break"
   ]
  },
  {
   "cell_type": "code",
   "execution_count": 107,
   "metadata": {},
   "outputs": [
    {
     "name": "stdout",
     "output_type": "stream",
     "text": [
      "[-0.00910713  0.02791954  0.01630876]\n"
     ]
    }
   ],
   "source": []
  },
  {
   "cell_type": "code",
   "execution_count": null,
   "metadata": {},
   "outputs": [],
   "source": []
  }
 ],
 "metadata": {
  "kernelspec": {
   "display_name": "Python 3",
   "language": "python",
   "name": "python3"
  },
  "language_info": {
   "codemirror_mode": {
    "name": "ipython",
    "version": 3
   },
   "file_extension": ".py",
   "mimetype": "text/x-python",
   "name": "python",
   "nbconvert_exporter": "python",
   "pygments_lexer": "ipython3",
   "version": "3.7.9"
  }
 },
 "nbformat": 4,
 "nbformat_minor": 4
}
