{
 "cells": [
  {
   "cell_type": "code",
   "execution_count": 1,
   "metadata": {},
   "outputs": [],
   "source": [
    "import pickle\n",
    "import pandas as pd\n",
    "import h5py\n",
    "import os"
   ]
  },
  {
   "cell_type": "code",
   "execution_count": 2,
   "metadata": {},
   "outputs": [],
   "source": [
    "def load_robonet(metadata_path):\n",
    "    df = pd.read_pickle(metadata_path, compression='gzip')\n",
    "    return df\n",
    "\n",
    "def save_metadata(df, metadata_path):\n",
    "    df.to_pickle(metadata_path, compression='gzip')\n",
    "\n",
    "robonet_root = \"/media/ed/hdd/Datasets/Robonet/hdf5/\""
   ]
  },
  {
   "cell_type": "code",
   "execution_count": 3,
   "metadata": {},
   "outputs": [],
   "source": [
    "metadata_path = \"/media/ed/hdd/Datasets/Robonet/hdf5/meta_data.pkl\"\n",
    "df = load_robonet(metadata_path)"
   ]
  },
  {
   "cell_type": "code",
   "execution_count": 4,
   "metadata": {},
   "outputs": [
    {
     "data": {
      "text/plain": [
       "sawyer    68112\n",
       "R3        56720\n",
       "baxter    18054\n",
       "franka     7873\n",
       "widowx     5050\n",
       "fetch      5000\n",
       "kuka       1608\n",
       "Name: robot, dtype: int64"
      ]
     },
     "execution_count": 4,
     "metadata": {},
     "output_type": "execute_result"
    }
   ],
   "source": [
    "df[\"robot\"].value_counts()"
   ]
  },
  {
   "cell_type": "code",
   "execution_count": 44,
   "metadata": {},
   "outputs": [
    {
     "name": "stdout",
     "output_type": "stream",
     "text": [
      "sawyer's recorded viewpoint labels\n",
      "ncam [5]\n",
      "19\n",
      "vestri0                    16492\n",
      "sudri0                     13338\n",
      "sudri2                      6470\n",
      "sudri5                      5016\n",
      "vestri_table2               5015\n",
      "sudri3                      3289\n",
      "vestri_table3               3084\n",
      "vestri_table6.5             2863\n",
      "vestri_table1               2764\n",
      "sudri4                      2503\n",
      "vestri_table0               2390\n",
      "sudri1                      1246\n",
      "vestri_table5                680\n",
      "vestri_table_correlated      650\n",
      "vestri_table6                624\n",
      "vestri1                      576\n",
      "vestri_tabl2                 482\n",
      "vestri_table5.5              480\n",
      "vestri_table4                150\n",
      "Name: camera_configuration, dtype: int64\n",
      "widowx's recorded viewpoint labels\n",
      "ncam [3]\n",
      "5\n",
      "widowx1    1468\n",
      "widowx4    1188\n",
      "widowx0    1185\n",
      "widowx3     959\n",
      "widowx2     250\n",
      "Name: camera_configuration, dtype: int64\n",
      "R3's recorded viewpoint labels\n",
      "ncam [1]\n",
      "1\n",
      "google_lab    56720\n",
      "Name: camera_configuration, dtype: int64\n",
      "baxter's recorded viewpoint labels\n",
      "ncam [3]\n",
      "2\n",
      "left_arm     10125\n",
      "right_arm     7929\n",
      "Name: camera_configuration, dtype: int64\n",
      "kuka's recorded viewpoint labels\n",
      "ncam [4]\n",
      "1\n",
      "4_View    1608\n",
      "Name: camera_configuration, dtype: int64\n",
      "fetch's recorded viewpoint labels\n",
      "ncam [1]\n",
      "1\n",
      "fetch    5000\n",
      "Name: camera_configuration, dtype: int64\n",
      "franka's recorded viewpoint labels\n",
      "ncam [3]\n",
      "1\n",
      "multiview_3    7873\n",
      "Name: camera_configuration, dtype: int64\n",
      "total vp [125]\n"
     ]
    }
   ],
   "source": [
    "total_viewpoints = 0\n",
    "for robot in df[\"robot\"].unique():\n",
    "    print(f\"{robot}'s recorded viewpoint labels\")\n",
    "    \n",
    "    ncam = df[robot == df[\"robot\"]][\"ncam\"].unique()\n",
    "    print(\"ncam\", ncam)\n",
    "    \n",
    "    cam_config = df[robot == df[\"robot\"]][\"camera_configuration\"].nunique()\n",
    "    print(cam_config)\n",
    "    print(df[robot == df[\"robot\"]][\"camera_configuration\"].value_counts())\n",
    "    \n",
    "    total_viewpoints += ncam * cam_config\n",
    "print(\"total vp\", total_viewpoints)"
   ]
  },
  {
   "cell_type": "code",
   "execution_count": 42,
   "metadata": {},
   "outputs": [
    {
     "name": "stdout",
     "output_type": "stream",
     "text": [
      "Checking sawyer\n",
      "<KeysViewHDF5 ['env', 'file_version', 'metadata', 'misc', 'policy']>\n",
      "<KeysViewHDF5 ['cam0_video', 'cam1_video', 'cam2_video', 'cam3_video', 'cam4_video', 'finger_sensors', 'high_bound', 'low_bound', 'qpos', 'qvel', 'state']>\n",
      "<KeysViewHDF5 ['traj_ok']>\n",
      "===============\n",
      "Checking widowx\n",
      "<KeysViewHDF5 ['env', 'file_version', 'metadata', 'misc', 'policy']>\n",
      "<KeysViewHDF5 ['cam0_video', 'cam1_video', 'cam2_video', 'high_bound', 'low_bound', 'qpos', 'qvel', 'state']>\n",
      "<KeysViewHDF5 ['traj_ok']>\n",
      "===============\n",
      "Checking R3\n",
      "<KeysViewHDF5 ['env', 'file_version', 'metadata', 'misc', 'policy']>\n",
      "<KeysViewHDF5 ['cam0_video', 'state']>\n",
      "<KeysViewHDF5 []>\n",
      "===============\n",
      "Checking baxter\n",
      "<KeysViewHDF5 ['env', 'file_version', 'metadata', 'misc', 'policy']>\n",
      "<KeysViewHDF5 ['cam0_video', 'cam1_video', 'cam2_video', 'finger_sensors', 'high_bound', 'low_bound', 'qpos', 'qvel', 'state']>\n",
      "<KeysViewHDF5 ['traj_ok']>\n",
      "===============\n",
      "Checking kuka\n",
      "<KeysViewHDF5 ['env', 'file_version', 'metadata', 'misc', 'policy']>\n",
      "<KeysViewHDF5 ['cam0_video', 'cam1_video', 'cam2_video', 'cam3_video', 'finger_sensors', 'high_bound', 'low_bound', 'qpos', 'qvel', 'state']>\n",
      "<KeysViewHDF5 ['traj_ok']>\n",
      "===============\n",
      "Checking fetch\n",
      "<KeysViewHDF5 ['env', 'file_version', 'metadata', 'misc', 'policy']>\n",
      "<KeysViewHDF5 ['cam0_video', 'state']>\n",
      "<KeysViewHDF5 []>\n",
      "===============\n",
      "Checking franka\n",
      "<KeysViewHDF5 ['env', 'file_version', 'metadata', 'misc', 'policy']>\n",
      "<KeysViewHDF5 ['cam0_video', 'cam1_video', 'cam2_video', 'high_bound', 'low_bound', 'state']>\n",
      "<KeysViewHDF5 ['traj_ok']>\n",
      "===============\n"
     ]
    }
   ],
   "source": [
    "# check baxter's data\n",
    "\n",
    "    "
   ]
  },
  {
   "cell_type": "code",
   "execution_count": 7,
   "metadata": {},
   "outputs": [],
   "source": [
    "# change baxter's camera_configuration to account for left and right viewpoints\n",
    "baxter_df = df.loc[\"baxter\" == df[\"robot\"]]\n",
    "left = [\"left\" in x for x in baxter_df.index]\n",
    "right = [not x for x in left]"
   ]
  },
  {
   "cell_type": "code",
   "execution_count": 8,
   "metadata": {},
   "outputs": [
    {
     "data": {
      "text/plain": [
       "(10125, 29)"
      ]
     },
     "execution_count": 8,
     "metadata": {},
     "output_type": "execute_result"
    }
   ],
   "source": [
    "baxter_df[left].shape"
   ]
  },
  {
   "cell_type": "code",
   "execution_count": 9,
   "metadata": {},
   "outputs": [
    {
     "data": {
      "text/plain": [
       "(7929, 29)"
      ]
     },
     "execution_count": 9,
     "metadata": {},
     "output_type": "execute_result"
    }
   ],
   "source": [
    "baxter_df[right].shape"
   ]
  },
  {
   "cell_type": "code",
   "execution_count": 10,
   "metadata": {
    "scrolled": true
   },
   "outputs": [
    {
     "name": "stderr",
     "output_type": "stream",
     "text": [
      "/home/ed/miniconda3/envs/roboaware/lib/python3.7/site-packages/pandas/core/indexing.py:1720: SettingWithCopyWarning: \n",
      "A value is trying to be set on a copy of a slice from a DataFrame.\n",
      "Try using .loc[row_indexer,col_indexer] = value instead\n",
      "\n",
      "See the caveats in the documentation: https://pandas.pydata.org/pandas-docs/stable/user_guide/indexing.html#returning-a-view-versus-a-copy\n",
      "  self._setitem_single_column(loc, value, pi)\n"
     ]
    },
    {
     "data": {
      "text/plain": [
       "penn_baxter_left_traj0.hdf5        left_arm\n",
       "penn_baxter_left_traj1.hdf5        left_arm\n",
       "penn_baxter_left_traj10.hdf5       left_arm\n",
       "penn_baxter_left_traj100.hdf5      left_arm\n",
       "penn_baxter_left_traj1000.hdf5     left_arm\n",
       "                                    ...    \n",
       "penn_baxter_right_traj995.hdf5    right_arm\n",
       "penn_baxter_right_traj996.hdf5    right_arm\n",
       "penn_baxter_right_traj997.hdf5    right_arm\n",
       "penn_baxter_right_traj998.hdf5    right_arm\n",
       "penn_baxter_right_traj999.hdf5    right_arm\n",
       "Name: camera_configuration, Length: 18054, dtype: object"
      ]
     },
     "execution_count": 10,
     "metadata": {},
     "output_type": "execute_result"
    }
   ],
   "source": [
    "baxter_df.loc[left, \"camera_configuration\"] = \"left_arm\"\n",
    "baxter_df.loc[right, \"camera_configuration\"] = \"right_arm\"\n",
    "\n",
    "df.loc[\"baxter\" == df[\"robot\"]] = baxter_df\n",
    "df.loc[\"baxter\" == df[\"robot\"], \"camera_configuration\"]"
   ]
  },
  {
   "cell_type": "code",
   "execution_count": 11,
   "metadata": {},
   "outputs": [
    {
     "data": {
      "text/plain": [
       "Index(['penn_kuka_traj0.hdf5', 'penn_kuka_traj1.hdf5', 'penn_kuka_traj10.hdf5',\n",
       "       'penn_kuka_traj100.hdf5', 'penn_kuka_traj1001.hdf5',\n",
       "       'penn_kuka_traj1003.hdf5', 'penn_kuka_traj1004.hdf5',\n",
       "       'penn_kuka_traj1006.hdf5', 'penn_kuka_traj1007.hdf5',\n",
       "       'penn_kuka_traj1008.hdf5',\n",
       "       ...\n",
       "       'penn_kuka_traj988.hdf5', 'penn_kuka_traj989.hdf5',\n",
       "       'penn_kuka_traj99.hdf5', 'penn_kuka_traj991.hdf5',\n",
       "       'penn_kuka_traj992.hdf5', 'penn_kuka_traj993.hdf5',\n",
       "       'penn_kuka_traj994.hdf5', 'penn_kuka_traj996.hdf5',\n",
       "       'penn_kuka_traj997.hdf5', 'penn_kuka_traj998.hdf5'],\n",
       "      dtype='object', length=1608)"
      ]
     },
     "execution_count": 11,
     "metadata": {},
     "output_type": "execute_result"
    }
   ],
   "source": [
    "# inspect Kuka iiwa's viewpoints\n",
    "kuka_df = df.loc[\"kuka\" == df[\"robot\"]]\n",
    "kuka_df.index"
   ]
  },
  {
   "cell_type": "code",
   "execution_count": 12,
   "metadata": {},
   "outputs": [
    {
     "data": {
      "text/plain": [
       "['new_kuka/collection_started_Sep_18_2019_09:30:19',\n",
       " 'new_kuka3/collection_started_Sep_25_2019_09:48:30',\n",
       " 'new_kuka3/collection_started_Sep_28_2019_15:21:20',\n",
       " 'new_kuka3/collection_started_Sep_26_2019_10:33:08',\n",
       " 'new_kuka/collection_started_Sep_18_2019_10:26:49',\n",
       " 'new_kuka3/collection_started_Sep_28_2019_15:45:34',\n",
       " 'new_kuka/collection_started_Sep_18_2019_21:39:02',\n",
       " 'new_kuka3/collection_started_Sep_28_2019_16:56:17',\n",
       " 'new_kuka/collection_started_Sep_17_2019_16:38:49',\n",
       " 'new_kuka/collection_started_Sep_18_2019_18:25:29',\n",
       " 'new_kuka2/collection_started_Sep_20_2019_17:34:22',\n",
       " 'new_kuka2/collection_started_Sep_19_2019_10:54:53',\n",
       " 'new_kuka2/collection_started_Sep_19_2019_19:10:09',\n",
       " 'new_kuka2/collection_started_Sep_19_2019_19:10:09',\n",
       " 'new_kuka2/collection_started_Sep_19_2019_20:53:19',\n",
       " 'new_kuka2/collection_started_Sep_20_2019_15:07:16',\n",
       " 'new_kuka/collection_started_Sep_18_2019_20:02:34']"
      ]
     },
     "execution_count": 12,
     "metadata": {},
     "output_type": "execute_result"
    }
   ],
   "source": [
    "kuka_df.iloc[0 ::100][\"object_batch\"].tolist()"
   ]
  },
  {
   "cell_type": "code",
   "execution_count": 13,
   "metadata": {},
   "outputs": [
    {
     "name": "stdout",
     "output_type": "stream",
     "text": [
      "kuka1 (381, 29)\n",
      "kuka2 (579, 29)\n",
      "kuka3 (648, 29)\n"
     ]
    }
   ],
   "source": [
    "# seems like there is new_kuka, new_kuka2, new_kuka3. Could that be the key differentiator of viewpoint?\n",
    "kuka1 = [\"new_kuka/\" in x for x in kuka_df[\"object_batch\"]]\n",
    "kuka2 = [\"new_kuka2/\" in x for x in kuka_df[\"object_batch\"]]\n",
    "kuka3 = [\"new_kuka3/\" in x for x in kuka_df[\"object_batch\"]]\n",
    "print(\"kuka1\", kuka_df[kuka1].shape)\n",
    "print(\"kuka2\", kuka_df[kuka2].shape)\n",
    "print(\"kuka3\", kuka_df[kuka3].shape)\n",
    "\n",
    "kuka1_df = kuka_df[kuka1]\n",
    "kuka2_df = kuka_df[kuka2]\n",
    "kuka3_df = kuka_df[kuka3]"
   ]
  },
  {
   "cell_type": "code",
   "execution_count": 23,
   "metadata": {},
   "outputs": [
    {
     "name": "stdout",
     "output_type": "stream",
     "text": [
      "/media/ed/hdd/Datasets/Robonet/hdf5/penn_kuka_traj0.hdf5\n",
      "/media/ed/hdd/Datasets/Robonet/hdf5/penn_kuka_traj1.hdf5\n",
      "/media/ed/hdd/Datasets/Robonet/hdf5/penn_kuka_traj189.hdf5\n"
     ]
    }
   ],
   "source": [
    "print(os.path.join(robonet_root, kuka1_df.index[0]))\n",
    "print(os.path.join(robonet_root, kuka1_df.index[1]))\n",
    "print(os.path.join(robonet_root, kuka1_df.index[100]))\n",
    "\n",
    "# print(os.path.join(robonet_root, kuka2_df.index[0]))\n",
    "# print(os.path.join(robonet_root, kuka3_df.index[0]))\n"
   ]
  },
  {
   "cell_type": "code",
   "execution_count": 56,
   "metadata": {},
   "outputs": [],
   "source": [
    "updated_metadata_path = \"/media/ed/hdd/Datasets/Robonet/hdf5/meta_data.pkl\"\n",
    "save_metadata(df, updated_metadata_path)"
   ]
  },
  {
   "cell_type": "code",
   "execution_count": 30,
   "metadata": {},
   "outputs": [
    {
     "data": {
      "text/plain": [
       "Logitech C920    68112\n",
       "Name: camera_type, dtype: int64"
      ]
     },
     "execution_count": 30,
     "metadata": {},
     "output_type": "execute_result"
    }
   ],
   "source": [
    "# load ~50 baxter left viewpoint 0 trajectories\n",
    "df[df[\"robot\"] == \"sawyer\"][\"camera_type\"].value_counts()"
   ]
  },
  {
   "cell_type": "code",
   "execution_count": 32,
   "metadata": {},
   "outputs": [],
   "source": [
    "# widowx trajectories\n",
    "widowx_df = df[df[\"robot\"] == \"widowx\"]\n",
    "widowx_subset = widowx_df[widowx_df[\"camera_configuration\"] == \"widowx1\"]"
   ]
  },
  {
   "cell_type": "code",
   "execution_count": 33,
   "metadata": {},
   "outputs": [
    {
     "name": "stdout",
     "output_type": "stream",
     "text": [
      "/media/ed/hdd/Datasets/Robonet/hdf5/berkeley_widowx_traj1000.hdf5\n",
      "/media/ed/hdd/Datasets/Robonet/hdf5/berkeley_widowx_traj1170.hdf5\n",
      "/media/ed/hdd/Datasets/Robonet/hdf5/berkeley_widowx_traj1300.hdf5\n"
     ]
    }
   ],
   "source": [
    "print(os.path.join(robonet_root, widowx_subset.index[0]))\n",
    "print(os.path.join(robonet_root, widowx_subset.index[50]))\n",
    "print(os.path.join(robonet_root, widowx_subset.index[100]))\n"
   ]
  },
  {
   "cell_type": "code",
   "execution_count": 49,
   "metadata": {},
   "outputs": [
    {
     "data": {
      "text/plain": [
       "stanford_fetch_traj0.hdf5       NaN\n",
       "stanford_fetch_traj1.hdf5       NaN\n",
       "stanford_fetch_traj10.hdf5      NaN\n",
       "stanford_fetch_traj100.hdf5     NaN\n",
       "stanford_fetch_traj1000.hdf5    NaN\n",
       "                               ... \n",
       "stanford_fetch_traj995.hdf5     NaN\n",
       "stanford_fetch_traj996.hdf5     NaN\n",
       "stanford_fetch_traj997.hdf5     NaN\n",
       "stanford_fetch_traj998.hdf5     NaN\n",
       "stanford_fetch_traj999.hdf5     NaN\n",
       "Name: high_bound, Length: 5000, dtype: object"
      ]
     },
     "execution_count": 49,
     "metadata": {},
     "output_type": "execute_result"
    }
   ],
   "source": [
    "# fetch trajectories\n",
    "fetch_df = df[df[\"robot\"] == \"fetch\"]\n",
    "fetch_df.high_bound"
   ]
  },
  {
   "cell_type": "code",
   "execution_count": null,
   "metadata": {},
   "outputs": [],
   "source": []
  }
 ],
 "metadata": {
  "kernelspec": {
   "display_name": "Python 3",
   "language": "python",
   "name": "python3"
  },
  "language_info": {
   "codemirror_mode": {
    "name": "ipython",
    "version": 3
   },
   "file_extension": ".py",
   "mimetype": "text/x-python",
   "name": "python",
   "nbconvert_exporter": "python",
   "pygments_lexer": "ipython3",
   "version": "3.7.9"
  }
 },
 "nbformat": 4,
 "nbformat_minor": 4
}
