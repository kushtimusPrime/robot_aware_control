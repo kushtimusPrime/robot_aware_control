{
 "cells": [
  {
   "cell_type": "code",
   "execution_count": 1,
   "metadata": {},
   "outputs": [],
   "source": [
    "import pickle\n",
    "import pandas as pd\n",
    "import h5py\n",
    "import os"
   ]
  },
  {
   "cell_type": "code",
   "execution_count": 2,
   "metadata": {},
   "outputs": [],
   "source": [
    "def load_robonet(metadata_path):\n",
    "    df = pd.read_pickle(metadata_path, compression='gzip')\n",
    "    return df\n",
    "\n",
    "def save_metadata(df, metadata_path):\n",
    "    df.to_pickle(metadata_path, compression='gzip')\n",
    "\n",
    "robonet_root = \"/media/ed/hdd/Datasets/Robonet/hdf5/\""
   ]
  },
  {
   "cell_type": "code",
   "execution_count": 3,
   "metadata": {},
   "outputs": [],
   "source": [
    "metadata_path = \"/media/ed/hdd/Datasets/Robonet/hdf5/meta_data.pkl\"\n",
    "df = load_robonet(metadata_path)"
   ]
  },
  {
   "cell_type": "code",
   "execution_count": 4,
   "metadata": {},
   "outputs": [
    {
     "data": {
      "text/plain": [
       "sawyer    68112\n",
       "R3        56720\n",
       "baxter    18054\n",
       "franka     7873\n",
       "widowx     5050\n",
       "fetch      5000\n",
       "kuka       1608\n",
       "Name: robot, dtype: int64"
      ]
     },
     "execution_count": 4,
     "metadata": {},
     "output_type": "execute_result"
    }
   ],
   "source": [
    "df[\"robot\"].value_counts()"
   ]
  },
  {
   "cell_type": "code",
   "execution_count": 5,
   "metadata": {},
   "outputs": [
    {
     "name": "stdout",
     "output_type": "stream",
     "text": [
      "sawyer's recorded viewpoint labels\n",
      "ncam [5]\n",
      "19\n",
      "vestri0                    16492\n",
      "sudri0                     13338\n",
      "sudri2                      6470\n",
      "sudri5                      5016\n",
      "vestri_table2               5015\n",
      "sudri3                      3289\n",
      "vestri_table3               3084\n",
      "vestri_table6.5             2863\n",
      "vestri_table1               2764\n",
      "sudri4                      2503\n",
      "vestri_table0               2390\n",
      "sudri1                      1246\n",
      "vestri_table5                680\n",
      "vestri_table_correlated      650\n",
      "vestri_table6                624\n",
      "vestri1                      576\n",
      "vestri_tabl2                 482\n",
      "vestri_table5.5              480\n",
      "vestri_table4                150\n",
      "Name: camera_configuration, dtype: int64\n",
      "widowx's recorded viewpoint labels\n",
      "ncam [3]\n",
      "5\n",
      "widowx1    1468\n",
      "widowx4    1188\n",
      "widowx0    1185\n",
      "widowx3     959\n",
      "widowx2     250\n",
      "Name: camera_configuration, dtype: int64\n",
      "R3's recorded viewpoint labels\n",
      "ncam [1]\n",
      "1\n",
      "google_lab    56720\n",
      "Name: camera_configuration, dtype: int64\n",
      "baxter's recorded viewpoint labels\n",
      "ncam [3]\n",
      "1\n",
      "3_View    18054\n",
      "Name: camera_configuration, dtype: int64\n",
      "kuka's recorded viewpoint labels\n",
      "ncam [4]\n",
      "1\n",
      "4_View    1608\n",
      "Name: camera_configuration, dtype: int64\n",
      "fetch's recorded viewpoint labels\n",
      "ncam [1]\n",
      "1\n",
      "fetch    5000\n",
      "Name: camera_configuration, dtype: int64\n",
      "franka's recorded viewpoint labels\n",
      "ncam [3]\n",
      "1\n",
      "multiview_3    7873\n",
      "Name: camera_configuration, dtype: int64\n",
      "total vp [122]\n"
     ]
    }
   ],
   "source": [
    "total_viewpoints = 0\n",
    "for robot in df[\"robot\"].unique():\n",
    "    print(f\"{robot}'s recorded viewpoint labels\")\n",
    "    \n",
    "    ncam = df[robot == df[\"robot\"]][\"ncam\"].unique()\n",
    "    print(\"ncam\", ncam)\n",
    "    \n",
    "    cam_config = df[robot == df[\"robot\"]][\"camera_configuration\"].nunique()\n",
    "    print(cam_config)\n",
    "    print(df[robot == df[\"robot\"]][\"camera_configuration\"].value_counts())\n",
    "    \n",
    "    total_viewpoints += ncam * cam_config\n",
    "print(\"total vp\", total_viewpoints)"
   ]
  },
  {
   "cell_type": "code",
   "execution_count": 16,
   "metadata": {},
   "outputs": [
    {
     "name": "stdout",
     "output_type": "stream",
     "text": [
      "sawyer's camera configurations\n",
      "vestri_table_correlated\n",
      "autograsp    650\n",
      "Name: primitives, dtype: int64\n",
      "\n",
      "vestri_table2\n",
      "none         3321\n",
      "autograsp    1694\n",
      "Name: primitives, dtype: int64\n",
      "\n",
      "vestri_tabl2\n",
      "autograsp    482\n",
      "Name: primitives, dtype: int64\n",
      "\n",
      "vestri0\n",
      "autograsp    16492\n",
      "Name: primitives, dtype: int64\n",
      "\n",
      "sudri0\n",
      "autograsp    13338\n",
      "Name: primitives, dtype: int64\n",
      "\n",
      "vestri_table6.5\n",
      "none    2863\n",
      "Name: primitives, dtype: int64\n",
      "\n",
      "sudri5\n",
      "none    5016\n",
      "Name: primitives, dtype: int64\n",
      "\n",
      "vestri_table0\n",
      "autograsp    2390\n",
      "Name: primitives, dtype: int64\n",
      "\n",
      "sudri4\n",
      "autograsp    2503\n",
      "Name: primitives, dtype: int64\n",
      "\n",
      "sudri2\n",
      "autograsp    3255\n",
      "none         3215\n",
      "Name: primitives, dtype: int64\n",
      "\n",
      "sudri3\n",
      "none    3289\n",
      "Name: primitives, dtype: int64\n",
      "\n",
      "vestri1\n",
      "autograsp    576\n",
      "Name: primitives, dtype: int64\n",
      "\n",
      "vestri_table1\n",
      "autograsp    2764\n",
      "Name: primitives, dtype: int64\n",
      "\n",
      "vestri_table3\n",
      "autograsp    3084\n",
      "Name: primitives, dtype: int64\n",
      "\n",
      "vestri_table6\n",
      "autograsp    624\n",
      "Name: primitives, dtype: int64\n",
      "\n",
      "sudri1\n",
      "autograsp    1246\n",
      "Name: primitives, dtype: int64\n",
      "\n",
      "vestri_table5.5\n",
      "autograsp    480\n",
      "Name: primitives, dtype: int64\n",
      "\n",
      "vestri_table4\n",
      "autograsp    150\n",
      "Name: primitives, dtype: int64\n",
      "\n",
      "vestri_table5\n",
      "autograsp    680\n",
      "Name: primitives, dtype: int64\n",
      "\n",
      "==================================================\n",
      "widowx's camera configurations\n",
      "widowx4\n",
      "autograsp    1188\n",
      "Name: primitives, dtype: int64\n",
      "\n",
      "widowx3\n",
      "autograsp    959\n",
      "Name: primitives, dtype: int64\n",
      "\n",
      "widowx0\n",
      "autograsp    1185\n",
      "Name: primitives, dtype: int64\n",
      "\n",
      "widowx1\n",
      "autograsp    1468\n",
      "Name: primitives, dtype: int64\n",
      "\n",
      "widowx2\n",
      "autograsp    250\n",
      "Name: primitives, dtype: int64\n",
      "\n",
      "==================================================\n",
      "R3's camera configurations\n",
      "google_lab\n",
      "none    56720\n",
      "Name: primitives, dtype: int64\n",
      "\n",
      "==================================================\n",
      "baxter's camera configurations\n",
      "3_View\n",
      "autograsp    18054\n",
      "Name: primitives, dtype: int64\n",
      "\n",
      "==================================================\n",
      "kuka's camera configurations\n",
      "4_View\n",
      "autograsp    1608\n",
      "Name: primitives, dtype: int64\n",
      "\n",
      "==================================================\n",
      "fetch's camera configurations\n",
      "fetch\n",
      "none    5000\n",
      "Name: primitives, dtype: int64\n",
      "\n",
      "==================================================\n",
      "franka's camera configurations\n",
      "multiview_3\n",
      "autograsp    7873\n",
      "Name: primitives, dtype: int64\n",
      "\n",
      "==================================================\n"
     ]
    },
    {
     "data": {
      "text/plain": [
       "autograsp    16492\n",
       "Name: primitives, dtype: int64"
      ]
     },
     "execution_count": 16,
     "metadata": {},
     "output_type": "execute_result"
    }
   ],
   "source": [
    "for robot in df[\"robot\"].unique():\n",
    "    print(f\"{robot}'s camera configurations\")    \n",
    "    robot_df = df[robot == df[\"robot\"]]\n",
    "    cam_config = df[robot == df[\"robot\"]][\"camera_configuration\"].unique()\n",
    "    for cfg in cam_config:\n",
    "        print(cfg)\n",
    "        print(robot_df[robot_df[\"camera_configuration\"] == cfg][\"primitives\"].value_counts())\n",
    "        print()\n",
    "    \n",
    "    print(\"=\" * 50)"
   ]
  },
  {
   "cell_type": "code",
   "execution_count": 25,
   "metadata": {},
   "outputs": [
    {
     "data": {
      "text/html": [
       "<div>\n",
       "<style scoped>\n",
       "    .dataframe tbody tr th:only-of-type {\n",
       "        vertical-align: middle;\n",
       "    }\n",
       "\n",
       "    .dataframe tbody tr th {\n",
       "        vertical-align: top;\n",
       "    }\n",
       "\n",
       "    .dataframe thead th {\n",
       "        text-align: right;\n",
       "    }\n",
       "</style>\n",
       "<table border=\"1\" class=\"dataframe\">\n",
       "  <thead>\n",
       "    <tr style=\"text-align: right;\">\n",
       "      <th></th>\n",
       "      <th>action_T</th>\n",
       "      <th>action_space</th>\n",
       "      <th>adim</th>\n",
       "      <th>background</th>\n",
       "      <th>bin_insert</th>\n",
       "      <th>bin_type</th>\n",
       "      <th>camera_configuration</th>\n",
       "      <th>camera_type</th>\n",
       "      <th>contains_annotation</th>\n",
       "      <th>environment_size</th>\n",
       "      <th>...</th>\n",
       "      <th>object_batch</th>\n",
       "      <th>object_classes</th>\n",
       "      <th>policy_desc</th>\n",
       "      <th>primitives</th>\n",
       "      <th>robot</th>\n",
       "      <th>sdim</th>\n",
       "      <th>sha256</th>\n",
       "      <th>state_T</th>\n",
       "      <th>term_t</th>\n",
       "      <th>traj_ok</th>\n",
       "    </tr>\n",
       "  </thead>\n",
       "  <tbody>\n",
       "    <tr>\n",
       "      <th>berkeley_sawyer_traj10018.hdf5</th>\n",
       "      <td>30</td>\n",
       "      <td>x,y,z,theta, gripper open/close</td>\n",
       "      <td>5</td>\n",
       "      <td>lab</td>\n",
       "      <td>polka_dot</td>\n",
       "      <td>sloped_arena</td>\n",
       "      <td>sudri2</td>\n",
       "      <td>Logitech C920</td>\n",
       "      <td>False</td>\n",
       "      <td>[0.34, 0.4, 0.116, 3.05432619, 2.0]</td>\n",
       "      <td>...</td>\n",
       "      <td>sawyer/raw/sudri/cam2/polka_dot/traj_group29</td>\n",
       "      <td>[toys]</td>\n",
       "      <td>random policy, gaussian noise: std_xy=0.035, s...</td>\n",
       "      <td>none</td>\n",
       "      <td>sawyer</td>\n",
       "      <td>5</td>\n",
       "      <td>b9272092a882f1475bf4e90f89eba6c1f2e9da2ce462af...</td>\n",
       "      <td>31</td>\n",
       "      <td>29.0</td>\n",
       "      <td>True</td>\n",
       "    </tr>\n",
       "    <tr>\n",
       "      <th>berkeley_sawyer_traj10045.hdf5</th>\n",
       "      <td>30</td>\n",
       "      <td>x,y,z,theta, gripper open/close</td>\n",
       "      <td>5</td>\n",
       "      <td>lab</td>\n",
       "      <td>yellow_polka_dots</td>\n",
       "      <td>sloped_arena</td>\n",
       "      <td>sudri2</td>\n",
       "      <td>Logitech C920</td>\n",
       "      <td>False</td>\n",
       "      <td>[0.34, 0.4, 0.116, 3.05432619, 2.0]</td>\n",
       "      <td>...</td>\n",
       "      <td>sawyer/raw/sudri/cam2/yellow_dots/traj_group32</td>\n",
       "      <td>[tools]</td>\n",
       "      <td>random policy, gaussian noise: std_xy=0.035, s...</td>\n",
       "      <td>none</td>\n",
       "      <td>sawyer</td>\n",
       "      <td>5</td>\n",
       "      <td>f2699e911434b88d9a720ea100225b2d2c62d3633e9976...</td>\n",
       "      <td>31</td>\n",
       "      <td>29.0</td>\n",
       "      <td>True</td>\n",
       "    </tr>\n",
       "    <tr>\n",
       "      <th>berkeley_sawyer_traj10061.hdf5</th>\n",
       "      <td>30</td>\n",
       "      <td>x,y,z,theta, gripper open/close</td>\n",
       "      <td>5</td>\n",
       "      <td>lab</td>\n",
       "      <td>polka_dot</td>\n",
       "      <td>sloped_arena</td>\n",
       "      <td>sudri2</td>\n",
       "      <td>Logitech C920</td>\n",
       "      <td>False</td>\n",
       "      <td>[0.34, 0.4, 0.116, 3.05432619, 2.0]</td>\n",
       "      <td>...</td>\n",
       "      <td>sawyer/raw/sudri/cam2/polka_dot/traj_group30</td>\n",
       "      <td>[toys]</td>\n",
       "      <td>random policy, gaussian noise: std_xy=0.035, s...</td>\n",
       "      <td>none</td>\n",
       "      <td>sawyer</td>\n",
       "      <td>5</td>\n",
       "      <td>f813967ba4a403dbb68b70b9714ba7a1480c6642be5850...</td>\n",
       "      <td>31</td>\n",
       "      <td>29.0</td>\n",
       "      <td>True</td>\n",
       "    </tr>\n",
       "    <tr>\n",
       "      <th>berkeley_sawyer_traj1007.hdf5</th>\n",
       "      <td>30</td>\n",
       "      <td>x,y,z,theta, gripper open/close</td>\n",
       "      <td>5</td>\n",
       "      <td>lab</td>\n",
       "      <td>polka_dot</td>\n",
       "      <td>sloped_arena</td>\n",
       "      <td>sudri2</td>\n",
       "      <td>Logitech C920</td>\n",
       "      <td>False</td>\n",
       "      <td>[0.34, 0.4, 0.116, 3.05432619, 2.0]</td>\n",
       "      <td>...</td>\n",
       "      <td>sawyer/raw/sudri/cam2/polka_dot/traj_group31</td>\n",
       "      <td>[tools]</td>\n",
       "      <td>random policy, gaussian noise: std_xy=0.035, s...</td>\n",
       "      <td>none</td>\n",
       "      <td>sawyer</td>\n",
       "      <td>5</td>\n",
       "      <td>ac46c6179a1b5986c7f32c3b6b0b8bc70727eebde2f814...</td>\n",
       "      <td>31</td>\n",
       "      <td>29.0</td>\n",
       "      <td>True</td>\n",
       "    </tr>\n",
       "    <tr>\n",
       "      <th>berkeley_sawyer_traj10076.hdf5</th>\n",
       "      <td>30</td>\n",
       "      <td>x,y,z,theta, gripper open/close</td>\n",
       "      <td>5</td>\n",
       "      <td>lab</td>\n",
       "      <td>polka_dot</td>\n",
       "      <td>sloped_arena</td>\n",
       "      <td>sudri2</td>\n",
       "      <td>Logitech C920</td>\n",
       "      <td>False</td>\n",
       "      <td>[0.34, 0.4, 0.116, 3.05432619, 2.0]</td>\n",
       "      <td>...</td>\n",
       "      <td>sawyer/raw/sudri/cam2/polka_dot/traj_group29</td>\n",
       "      <td>[toys]</td>\n",
       "      <td>random policy, gaussian noise: std_xy=0.035, s...</td>\n",
       "      <td>none</td>\n",
       "      <td>sawyer</td>\n",
       "      <td>5</td>\n",
       "      <td>8fd5d9c95518c7957a7b1d1ac2e9e5c8f5f6deb75c4332...</td>\n",
       "      <td>31</td>\n",
       "      <td>29.0</td>\n",
       "      <td>True</td>\n",
       "    </tr>\n",
       "  </tbody>\n",
       "</table>\n",
       "<p>5 rows × 29 columns</p>\n",
       "</div>"
      ],
      "text/plain": [
       "                                action_T                     action_space  \\\n",
       "berkeley_sawyer_traj10018.hdf5        30  x,y,z,theta, gripper open/close   \n",
       "berkeley_sawyer_traj10045.hdf5        30  x,y,z,theta, gripper open/close   \n",
       "berkeley_sawyer_traj10061.hdf5        30  x,y,z,theta, gripper open/close   \n",
       "berkeley_sawyer_traj1007.hdf5         30  x,y,z,theta, gripper open/close   \n",
       "berkeley_sawyer_traj10076.hdf5        30  x,y,z,theta, gripper open/close   \n",
       "\n",
       "                                adim background         bin_insert  \\\n",
       "berkeley_sawyer_traj10018.hdf5     5        lab          polka_dot   \n",
       "berkeley_sawyer_traj10045.hdf5     5        lab  yellow_polka_dots   \n",
       "berkeley_sawyer_traj10061.hdf5     5        lab          polka_dot   \n",
       "berkeley_sawyer_traj1007.hdf5      5        lab          polka_dot   \n",
       "berkeley_sawyer_traj10076.hdf5     5        lab          polka_dot   \n",
       "\n",
       "                                    bin_type camera_configuration  \\\n",
       "berkeley_sawyer_traj10018.hdf5  sloped_arena               sudri2   \n",
       "berkeley_sawyer_traj10045.hdf5  sloped_arena               sudri2   \n",
       "berkeley_sawyer_traj10061.hdf5  sloped_arena               sudri2   \n",
       "berkeley_sawyer_traj1007.hdf5   sloped_arena               sudri2   \n",
       "berkeley_sawyer_traj10076.hdf5  sloped_arena               sudri2   \n",
       "\n",
       "                                  camera_type  contains_annotation  \\\n",
       "berkeley_sawyer_traj10018.hdf5  Logitech C920                False   \n",
       "berkeley_sawyer_traj10045.hdf5  Logitech C920                False   \n",
       "berkeley_sawyer_traj10061.hdf5  Logitech C920                False   \n",
       "berkeley_sawyer_traj1007.hdf5   Logitech C920                False   \n",
       "berkeley_sawyer_traj10076.hdf5  Logitech C920                False   \n",
       "\n",
       "                                                   environment_size  ...  \\\n",
       "berkeley_sawyer_traj10018.hdf5  [0.34, 0.4, 0.116, 3.05432619, 2.0]  ...   \n",
       "berkeley_sawyer_traj10045.hdf5  [0.34, 0.4, 0.116, 3.05432619, 2.0]  ...   \n",
       "berkeley_sawyer_traj10061.hdf5  [0.34, 0.4, 0.116, 3.05432619, 2.0]  ...   \n",
       "berkeley_sawyer_traj1007.hdf5   [0.34, 0.4, 0.116, 3.05432619, 2.0]  ...   \n",
       "berkeley_sawyer_traj10076.hdf5  [0.34, 0.4, 0.116, 3.05432619, 2.0]  ...   \n",
       "\n",
       "                                                                  object_batch  \\\n",
       "berkeley_sawyer_traj10018.hdf5    sawyer/raw/sudri/cam2/polka_dot/traj_group29   \n",
       "berkeley_sawyer_traj10045.hdf5  sawyer/raw/sudri/cam2/yellow_dots/traj_group32   \n",
       "berkeley_sawyer_traj10061.hdf5    sawyer/raw/sudri/cam2/polka_dot/traj_group30   \n",
       "berkeley_sawyer_traj1007.hdf5     sawyer/raw/sudri/cam2/polka_dot/traj_group31   \n",
       "berkeley_sawyer_traj10076.hdf5    sawyer/raw/sudri/cam2/polka_dot/traj_group29   \n",
       "\n",
       "                               object_classes  \\\n",
       "berkeley_sawyer_traj10018.hdf5         [toys]   \n",
       "berkeley_sawyer_traj10045.hdf5        [tools]   \n",
       "berkeley_sawyer_traj10061.hdf5         [toys]   \n",
       "berkeley_sawyer_traj1007.hdf5         [tools]   \n",
       "berkeley_sawyer_traj10076.hdf5         [toys]   \n",
       "\n",
       "                                                                      policy_desc  \\\n",
       "berkeley_sawyer_traj10018.hdf5  random policy, gaussian noise: std_xy=0.035, s...   \n",
       "berkeley_sawyer_traj10045.hdf5  random policy, gaussian noise: std_xy=0.035, s...   \n",
       "berkeley_sawyer_traj10061.hdf5  random policy, gaussian noise: std_xy=0.035, s...   \n",
       "berkeley_sawyer_traj1007.hdf5   random policy, gaussian noise: std_xy=0.035, s...   \n",
       "berkeley_sawyer_traj10076.hdf5  random policy, gaussian noise: std_xy=0.035, s...   \n",
       "\n",
       "                               primitives   robot  sdim  \\\n",
       "berkeley_sawyer_traj10018.hdf5       none  sawyer     5   \n",
       "berkeley_sawyer_traj10045.hdf5       none  sawyer     5   \n",
       "berkeley_sawyer_traj10061.hdf5       none  sawyer     5   \n",
       "berkeley_sawyer_traj1007.hdf5        none  sawyer     5   \n",
       "berkeley_sawyer_traj10076.hdf5       none  sawyer     5   \n",
       "\n",
       "                                                                           sha256  \\\n",
       "berkeley_sawyer_traj10018.hdf5  b9272092a882f1475bf4e90f89eba6c1f2e9da2ce462af...   \n",
       "berkeley_sawyer_traj10045.hdf5  f2699e911434b88d9a720ea100225b2d2c62d3633e9976...   \n",
       "berkeley_sawyer_traj10061.hdf5  f813967ba4a403dbb68b70b9714ba7a1480c6642be5850...   \n",
       "berkeley_sawyer_traj1007.hdf5   ac46c6179a1b5986c7f32c3b6b0b8bc70727eebde2f814...   \n",
       "berkeley_sawyer_traj10076.hdf5  8fd5d9c95518c7957a7b1d1ac2e9e5c8f5f6deb75c4332...   \n",
       "\n",
       "                               state_T  term_t traj_ok  \n",
       "berkeley_sawyer_traj10018.hdf5      31    29.0    True  \n",
       "berkeley_sawyer_traj10045.hdf5      31    29.0    True  \n",
       "berkeley_sawyer_traj10061.hdf5      31    29.0    True  \n",
       "berkeley_sawyer_traj1007.hdf5       31    29.0    True  \n",
       "berkeley_sawyer_traj10076.hdf5      31    29.0    True  \n",
       "\n",
       "[5 rows x 29 columns]"
      ]
     },
     "execution_count": 25,
     "metadata": {},
     "output_type": "execute_result"
    }
   ],
   "source": [
    "# check sawyer's sudri2 data\n",
    "sudri2_df = df[(df[\"robot\"] == \"sawyer\") & (df[\"camera_configuration\"] == \"sudri2\")]\n",
    "# sudri2_df[\"primitives\"].value_counts()\n",
    "sudri2_none = sudri2_df[sudri2_df[\"primitives\"] == \"none\"]\n",
    "sudri2_none.head()"
   ]
  },
  {
   "cell_type": "code",
   "execution_count": 7,
   "metadata": {},
   "outputs": [],
   "source": [
    "# change baxter's camera_configuration to account for left and right viewpoints\n",
    "baxter_df = df.loc[\"baxter\" == df[\"robot\"]]\n",
    "left = [\"left\" in x for x in baxter_df.index]\n",
    "right = [not x for x in left]"
   ]
  },
  {
   "cell_type": "code",
   "execution_count": 8,
   "metadata": {},
   "outputs": [
    {
     "data": {
      "text/plain": [
       "(10125, 29)"
      ]
     },
     "execution_count": 8,
     "metadata": {},
     "output_type": "execute_result"
    }
   ],
   "source": [
    "baxter_df[left].shape"
   ]
  },
  {
   "cell_type": "code",
   "execution_count": 9,
   "metadata": {},
   "outputs": [
    {
     "data": {
      "text/plain": [
       "(7929, 29)"
      ]
     },
     "execution_count": 9,
     "metadata": {},
     "output_type": "execute_result"
    }
   ],
   "source": [
    "baxter_df[right].shape"
   ]
  },
  {
   "cell_type": "code",
   "execution_count": 10,
   "metadata": {
    "scrolled": true
   },
   "outputs": [
    {
     "name": "stderr",
     "output_type": "stream",
     "text": [
      "/home/ed/miniconda3/envs/roboaware/lib/python3.7/site-packages/pandas/core/indexing.py:1720: SettingWithCopyWarning: \n",
      "A value is trying to be set on a copy of a slice from a DataFrame.\n",
      "Try using .loc[row_indexer,col_indexer] = value instead\n",
      "\n",
      "See the caveats in the documentation: https://pandas.pydata.org/pandas-docs/stable/user_guide/indexing.html#returning-a-view-versus-a-copy\n",
      "  self._setitem_single_column(loc, value, pi)\n"
     ]
    },
    {
     "data": {
      "text/plain": [
       "penn_baxter_left_traj0.hdf5        left_arm\n",
       "penn_baxter_left_traj1.hdf5        left_arm\n",
       "penn_baxter_left_traj10.hdf5       left_arm\n",
       "penn_baxter_left_traj100.hdf5      left_arm\n",
       "penn_baxter_left_traj1000.hdf5     left_arm\n",
       "                                    ...    \n",
       "penn_baxter_right_traj995.hdf5    right_arm\n",
       "penn_baxter_right_traj996.hdf5    right_arm\n",
       "penn_baxter_right_traj997.hdf5    right_arm\n",
       "penn_baxter_right_traj998.hdf5    right_arm\n",
       "penn_baxter_right_traj999.hdf5    right_arm\n",
       "Name: camera_configuration, Length: 18054, dtype: object"
      ]
     },
     "execution_count": 10,
     "metadata": {},
     "output_type": "execute_result"
    }
   ],
   "source": [
    "baxter_df.loc[left, \"camera_configuration\"] = \"left_arm\"\n",
    "baxter_df.loc[right, \"camera_configuration\"] = \"right_arm\"\n",
    "\n",
    "df.loc[\"baxter\" == df[\"robot\"]] = baxter_df\n",
    "df.loc[\"baxter\" == df[\"robot\"], \"camera_configuration\"]"
   ]
  },
  {
   "cell_type": "code",
   "execution_count": 11,
   "metadata": {},
   "outputs": [
    {
     "data": {
      "text/plain": [
       "Index(['penn_kuka_traj0.hdf5', 'penn_kuka_traj1.hdf5', 'penn_kuka_traj10.hdf5',\n",
       "       'penn_kuka_traj100.hdf5', 'penn_kuka_traj1001.hdf5',\n",
       "       'penn_kuka_traj1003.hdf5', 'penn_kuka_traj1004.hdf5',\n",
       "       'penn_kuka_traj1006.hdf5', 'penn_kuka_traj1007.hdf5',\n",
       "       'penn_kuka_traj1008.hdf5',\n",
       "       ...\n",
       "       'penn_kuka_traj988.hdf5', 'penn_kuka_traj989.hdf5',\n",
       "       'penn_kuka_traj99.hdf5', 'penn_kuka_traj991.hdf5',\n",
       "       'penn_kuka_traj992.hdf5', 'penn_kuka_traj993.hdf5',\n",
       "       'penn_kuka_traj994.hdf5', 'penn_kuka_traj996.hdf5',\n",
       "       'penn_kuka_traj997.hdf5', 'penn_kuka_traj998.hdf5'],\n",
       "      dtype='object', length=1608)"
      ]
     },
     "execution_count": 11,
     "metadata": {},
     "output_type": "execute_result"
    }
   ],
   "source": [
    "# inspect Kuka iiwa's viewpoints\n",
    "kuka_df = df.loc[\"kuka\" == df[\"robot\"]]\n",
    "kuka_df.index"
   ]
  },
  {
   "cell_type": "code",
   "execution_count": 12,
   "metadata": {},
   "outputs": [
    {
     "data": {
      "text/plain": [
       "['new_kuka/collection_started_Sep_18_2019_09:30:19',\n",
       " 'new_kuka3/collection_started_Sep_25_2019_09:48:30',\n",
       " 'new_kuka3/collection_started_Sep_28_2019_15:21:20',\n",
       " 'new_kuka3/collection_started_Sep_26_2019_10:33:08',\n",
       " 'new_kuka/collection_started_Sep_18_2019_10:26:49',\n",
       " 'new_kuka3/collection_started_Sep_28_2019_15:45:34',\n",
       " 'new_kuka/collection_started_Sep_18_2019_21:39:02',\n",
       " 'new_kuka3/collection_started_Sep_28_2019_16:56:17',\n",
       " 'new_kuka/collection_started_Sep_17_2019_16:38:49',\n",
       " 'new_kuka/collection_started_Sep_18_2019_18:25:29',\n",
       " 'new_kuka2/collection_started_Sep_20_2019_17:34:22',\n",
       " 'new_kuka2/collection_started_Sep_19_2019_10:54:53',\n",
       " 'new_kuka2/collection_started_Sep_19_2019_19:10:09',\n",
       " 'new_kuka2/collection_started_Sep_19_2019_19:10:09',\n",
       " 'new_kuka2/collection_started_Sep_19_2019_20:53:19',\n",
       " 'new_kuka2/collection_started_Sep_20_2019_15:07:16',\n",
       " 'new_kuka/collection_started_Sep_18_2019_20:02:34']"
      ]
     },
     "execution_count": 12,
     "metadata": {},
     "output_type": "execute_result"
    }
   ],
   "source": [
    "kuka_df.iloc[0 ::100][\"object_batch\"].tolist()"
   ]
  },
  {
   "cell_type": "code",
   "execution_count": 13,
   "metadata": {},
   "outputs": [
    {
     "name": "stdout",
     "output_type": "stream",
     "text": [
      "kuka1 (381, 29)\n",
      "kuka2 (579, 29)\n",
      "kuka3 (648, 29)\n"
     ]
    }
   ],
   "source": [
    "# seems like there is new_kuka, new_kuka2, new_kuka3. Could that be the key differentiator of viewpoint?\n",
    "kuka1 = [\"new_kuka/\" in x for x in kuka_df[\"object_batch\"]]\n",
    "kuka2 = [\"new_kuka2/\" in x for x in kuka_df[\"object_batch\"]]\n",
    "kuka3 = [\"new_kuka3/\" in x for x in kuka_df[\"object_batch\"]]\n",
    "print(\"kuka1\", kuka_df[kuka1].shape)\n",
    "print(\"kuka2\", kuka_df[kuka2].shape)\n",
    "print(\"kuka3\", kuka_df[kuka3].shape)\n",
    "\n",
    "kuka1_df = kuka_df[kuka1]\n",
    "kuka2_df = kuka_df[kuka2]\n",
    "kuka3_df = kuka_df[kuka3]"
   ]
  },
  {
   "cell_type": "code",
   "execution_count": 23,
   "metadata": {},
   "outputs": [
    {
     "name": "stdout",
     "output_type": "stream",
     "text": [
      "/media/ed/hdd/Datasets/Robonet/hdf5/penn_kuka_traj0.hdf5\n",
      "/media/ed/hdd/Datasets/Robonet/hdf5/penn_kuka_traj1.hdf5\n",
      "/media/ed/hdd/Datasets/Robonet/hdf5/penn_kuka_traj189.hdf5\n"
     ]
    }
   ],
   "source": [
    "print(os.path.join(robonet_root, kuka1_df.index[0]))\n",
    "print(os.path.join(robonet_root, kuka1_df.index[1]))\n",
    "print(os.path.join(robonet_root, kuka1_df.index[100]))\n",
    "\n",
    "# print(os.path.join(robonet_root, kuka2_df.index[0]))\n",
    "# print(os.path.join(robonet_root, kuka3_df.index[0]))\n"
   ]
  },
  {
   "cell_type": "code",
   "execution_count": 56,
   "metadata": {},
   "outputs": [],
   "source": [
    "updated_metadata_path = \"/media/ed/hdd/Datasets/Robonet/hdf5/meta_data.pkl\"\n",
    "save_metadata(df, updated_metadata_path)"
   ]
  },
  {
   "cell_type": "code",
   "execution_count": 30,
   "metadata": {},
   "outputs": [
    {
     "data": {
      "text/plain": [
       "Logitech C920    68112\n",
       "Name: camera_type, dtype: int64"
      ]
     },
     "execution_count": 30,
     "metadata": {},
     "output_type": "execute_result"
    }
   ],
   "source": [
    "# load ~50 baxter left viewpoint 0 trajectories\n",
    "df[df[\"robot\"] == \"sawyer\"][\"camera_type\"].value_counts()"
   ]
  },
  {
   "cell_type": "code",
   "execution_count": 32,
   "metadata": {},
   "outputs": [],
   "source": [
    "# widowx trajectories\n",
    "widowx_df = df[df[\"robot\"] == \"widowx\"]\n",
    "widowx_subset = widowx_df[widowx_df[\"camera_configuration\"] == \"widowx1\"]"
   ]
  },
  {
   "cell_type": "code",
   "execution_count": 33,
   "metadata": {},
   "outputs": [
    {
     "name": "stdout",
     "output_type": "stream",
     "text": [
      "/media/ed/hdd/Datasets/Robonet/hdf5/berkeley_widowx_traj1000.hdf5\n",
      "/media/ed/hdd/Datasets/Robonet/hdf5/berkeley_widowx_traj1170.hdf5\n",
      "/media/ed/hdd/Datasets/Robonet/hdf5/berkeley_widowx_traj1300.hdf5\n"
     ]
    }
   ],
   "source": [
    "print(os.path.join(robonet_root, widowx_subset.index[0]))\n",
    "print(os.path.join(robonet_root, widowx_subset.index[50]))\n",
    "print(os.path.join(robonet_root, widowx_subset.index[100]))\n"
   ]
  },
  {
   "cell_type": "code",
   "execution_count": 49,
   "metadata": {},
   "outputs": [
    {
     "data": {
      "text/plain": [
       "stanford_fetch_traj0.hdf5       NaN\n",
       "stanford_fetch_traj1.hdf5       NaN\n",
       "stanford_fetch_traj10.hdf5      NaN\n",
       "stanford_fetch_traj100.hdf5     NaN\n",
       "stanford_fetch_traj1000.hdf5    NaN\n",
       "                               ... \n",
       "stanford_fetch_traj995.hdf5     NaN\n",
       "stanford_fetch_traj996.hdf5     NaN\n",
       "stanford_fetch_traj997.hdf5     NaN\n",
       "stanford_fetch_traj998.hdf5     NaN\n",
       "stanford_fetch_traj999.hdf5     NaN\n",
       "Name: high_bound, Length: 5000, dtype: object"
      ]
     },
     "execution_count": 49,
     "metadata": {},
     "output_type": "execute_result"
    }
   ],
   "source": [
    "# fetch trajectories\n",
    "fetch_df = df[df[\"robot\"] == \"fetch\"]\n",
    "fetch_df.high_bound"
   ]
  },
  {
   "cell_type": "code",
   "execution_count": null,
   "metadata": {},
   "outputs": [],
   "source": []
  }
 ],
 "metadata": {
  "kernelspec": {
   "display_name": "Python 3",
   "language": "python",
   "name": "python3"
  },
  "language_info": {
   "codemirror_mode": {
    "name": "ipython",
    "version": 3
   },
   "file_extension": ".py",
   "mimetype": "text/x-python",
   "name": "python",
   "nbconvert_exporter": "python",
   "pygments_lexer": "ipython3",
   "version": "3.7.9"
  }
 },
 "nbformat": 4,
 "nbformat_minor": 4
}
